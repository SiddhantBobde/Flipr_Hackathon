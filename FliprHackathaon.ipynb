{
  "nbformat": 4,
  "nbformat_minor": 0,
  "metadata": {
    "colab": {
      "name": "FliprHackathaon.ipynb",
      "provenance": [],
      "collapsed_sections": [],
      "toc_visible": true
    },
    "kernelspec": {
      "name": "python3",
      "display_name": "Python 3"
    },
    "accelerator": "GPU"
  },
  "cells": [
    {
      "cell_type": "code",
      "metadata": {
        "id": "ltqcoH0W_Pgl",
        "colab_type": "code",
        "colab": {}
      },
      "source": [
        "import numpy as np\n",
        "import pandas as pd\n",
        "import matplotlib.pyplot as plt\n",
        "import seaborn as sns\n",
        "from scipy import stats\n",
        "%matplotlib inline"
      ],
      "execution_count": null,
      "outputs": []
    },
    {
      "cell_type": "code",
      "metadata": {
        "id": "fsxuyIAC_VxY",
        "colab_type": "code",
        "colab": {}
      },
      "source": [
        "# from google.colab import files\n",
        "# uploaded = files.upload()"
      ],
      "execution_count": null,
      "outputs": []
    },
    {
      "cell_type": "code",
      "metadata": {
        "id": "TIIoZ3tu_Y5m",
        "colab_type": "code",
        "colab": {}
      },
      "source": [
        "dataset=pd.read_excel('Train_dataset.xlsx')"
      ],
      "execution_count": null,
      "outputs": []
    },
    {
      "cell_type": "code",
      "metadata": {
        "id": "6LxNa3-WCw9Q",
        "colab_type": "code",
        "colab": {
          "base_uri": "https://localhost:8080/",
          "height": 212
        },
        "outputId": "c645cf81-d74f-4b3f-c6e8-36c624a3960c"
      },
      "source": [
        "dataset=dataset.drop('Popuation [2001]',axis=1)\n",
        "dataset.head()"
      ],
      "execution_count": null,
      "outputs": [
        {
          "output_type": "execute_result",
          "data": {
            "text/html": [
              "<div>\n",
              "<style scoped>\n",
              "    .dataframe tbody tr th:only-of-type {\n",
              "        vertical-align: middle;\n",
              "    }\n",
              "\n",
              "    .dataframe tbody tr th {\n",
              "        vertical-align: top;\n",
              "    }\n",
              "\n",
              "    .dataframe thead th {\n",
              "        text-align: right;\n",
              "    }\n",
              "</style>\n",
              "<table border=\"1\" class=\"dataframe\">\n",
              "  <thead>\n",
              "    <tr style=\"text-align: right;\">\n",
              "      <th></th>\n",
              "      <th>City</th>\n",
              "      <th>State</th>\n",
              "      <th>Type</th>\n",
              "      <th>Population [2011]</th>\n",
              "      <th>Sex Ratio</th>\n",
              "      <th>Median Age</th>\n",
              "      <th>Avg Temp</th>\n",
              "      <th>SWM</th>\n",
              "      <th>Toilets Avl</th>\n",
              "      <th>Water Purity</th>\n",
              "      <th>H Index</th>\n",
              "      <th>Female Population</th>\n",
              "      <th># of hospitals</th>\n",
              "      <th>Foreign Visitors</th>\n",
              "      <th>Covid Cases</th>\n",
              "    </tr>\n",
              "  </thead>\n",
              "  <tbody>\n",
              "    <tr>\n",
              "      <th>0</th>\n",
              "      <td>Mumbai</td>\n",
              "      <td>Maharashtra</td>\n",
              "      <td>M.C</td>\n",
              "      <td>12442373.0</td>\n",
              "      <td>878.0</td>\n",
              "      <td>23.0</td>\n",
              "      <td>32.0</td>\n",
              "      <td>MEDIUM</td>\n",
              "      <td>219.0</td>\n",
              "      <td>150.0</td>\n",
              "      <td>0.700440</td>\n",
              "      <td>10924403.0</td>\n",
              "      <td>159.0</td>\n",
              "      <td>4408916.0</td>\n",
              "      <td>163115</td>\n",
              "    </tr>\n",
              "    <tr>\n",
              "      <th>1</th>\n",
              "      <td>Delhi</td>\n",
              "      <td>Delhi</td>\n",
              "      <td>M.C</td>\n",
              "      <td>11007835.0</td>\n",
              "      <td>858.0</td>\n",
              "      <td>27.0</td>\n",
              "      <td>30.0</td>\n",
              "      <td>MEDIUM</td>\n",
              "      <td>215.0</td>\n",
              "      <td>196.0</td>\n",
              "      <td>0.920018</td>\n",
              "      <td>9444722.0</td>\n",
              "      <td>148.0</td>\n",
              "      <td>2379169.0</td>\n",
              "      <td>80188</td>\n",
              "    </tr>\n",
              "    <tr>\n",
              "      <th>2</th>\n",
              "      <td>Bangalore</td>\n",
              "      <td>Karnataka</td>\n",
              "      <td>MPUA</td>\n",
              "      <td>8436675.0</td>\n",
              "      <td>936.0</td>\n",
              "      <td>28.0</td>\n",
              "      <td>37.0</td>\n",
              "      <td>HIGH</td>\n",
              "      <td>212.0</td>\n",
              "      <td>102.0</td>\n",
              "      <td>0.097085</td>\n",
              "      <td>7896728.0</td>\n",
              "      <td>123.0</td>\n",
              "      <td>636502.0</td>\n",
              "      <td>141000</td>\n",
              "    </tr>\n",
              "    <tr>\n",
              "      <th>3</th>\n",
              "      <td>Hyderabad</td>\n",
              "      <td>Telangana</td>\n",
              "      <td>MPUA</td>\n",
              "      <td>6809970.0</td>\n",
              "      <td>930.0</td>\n",
              "      <td>23.0</td>\n",
              "      <td>31.0</td>\n",
              "      <td>MEDIUM</td>\n",
              "      <td>217.0</td>\n",
              "      <td>118.0</td>\n",
              "      <td>0.827744</td>\n",
              "      <td>6333272.0</td>\n",
              "      <td>110.0</td>\n",
              "      <td>126078.0</td>\n",
              "      <td>55123</td>\n",
              "    </tr>\n",
              "    <tr>\n",
              "      <th>4</th>\n",
              "      <td>Ahmedabad</td>\n",
              "      <td>Gujarat</td>\n",
              "      <td>MPUA</td>\n",
              "      <td>5570585.0</td>\n",
              "      <td>852.0</td>\n",
              "      <td>29.0</td>\n",
              "      <td>25.0</td>\n",
              "      <td>LOW</td>\n",
              "      <td>227.0</td>\n",
              "      <td>109.0</td>\n",
              "      <td>0.847941</td>\n",
              "      <td>4746138.0</td>\n",
              "      <td>73.0</td>\n",
              "      <td>284973.0</td>\n",
              "      <td>33204</td>\n",
              "    </tr>\n",
              "  </tbody>\n",
              "</table>\n",
              "</div>"
            ],
            "text/plain": [
              "        City        State  Type  ...  # of hospitals  Foreign Visitors  Covid Cases\n",
              "0     Mumbai  Maharashtra   M.C  ...           159.0         4408916.0       163115\n",
              "1      Delhi        Delhi   M.C  ...           148.0         2379169.0        80188\n",
              "2  Bangalore    Karnataka  MPUA  ...           123.0          636502.0       141000\n",
              "3  Hyderabad    Telangana  MPUA  ...           110.0          126078.0        55123\n",
              "4  Ahmedabad      Gujarat  MPUA  ...            73.0          284973.0        33204\n",
              "\n",
              "[5 rows x 15 columns]"
            ]
          },
          "metadata": {
            "tags": []
          },
          "execution_count": 1790
        }
      ]
    },
    {
      "cell_type": "code",
      "metadata": {
        "id": "hQtV1N7niVNy",
        "colab_type": "code",
        "colab": {
          "base_uri": "https://localhost:8080/",
          "height": 212
        },
        "outputId": "726c5698-0f56-4a7b-d8b7-ed3031653fd1"
      },
      "source": [
        "dataset.head()"
      ],
      "execution_count": null,
      "outputs": [
        {
          "output_type": "execute_result",
          "data": {
            "text/html": [
              "<div>\n",
              "<style scoped>\n",
              "    .dataframe tbody tr th:only-of-type {\n",
              "        vertical-align: middle;\n",
              "    }\n",
              "\n",
              "    .dataframe tbody tr th {\n",
              "        vertical-align: top;\n",
              "    }\n",
              "\n",
              "    .dataframe thead th {\n",
              "        text-align: right;\n",
              "    }\n",
              "</style>\n",
              "<table border=\"1\" class=\"dataframe\">\n",
              "  <thead>\n",
              "    <tr style=\"text-align: right;\">\n",
              "      <th></th>\n",
              "      <th>City</th>\n",
              "      <th>State</th>\n",
              "      <th>Type</th>\n",
              "      <th>Population [2011]</th>\n",
              "      <th>Sex Ratio</th>\n",
              "      <th>Median Age</th>\n",
              "      <th>Avg Temp</th>\n",
              "      <th>SWM</th>\n",
              "      <th>Toilets Avl</th>\n",
              "      <th>Water Purity</th>\n",
              "      <th>H Index</th>\n",
              "      <th>Female Population</th>\n",
              "      <th># of hospitals</th>\n",
              "      <th>Foreign Visitors</th>\n",
              "      <th>Covid Cases</th>\n",
              "    </tr>\n",
              "  </thead>\n",
              "  <tbody>\n",
              "    <tr>\n",
              "      <th>0</th>\n",
              "      <td>Mumbai</td>\n",
              "      <td>Maharashtra</td>\n",
              "      <td>M.C</td>\n",
              "      <td>12442373.0</td>\n",
              "      <td>878.0</td>\n",
              "      <td>23.0</td>\n",
              "      <td>32.0</td>\n",
              "      <td>MEDIUM</td>\n",
              "      <td>219.0</td>\n",
              "      <td>150.0</td>\n",
              "      <td>0.700440</td>\n",
              "      <td>10924403.0</td>\n",
              "      <td>159.0</td>\n",
              "      <td>4408916.0</td>\n",
              "      <td>163115</td>\n",
              "    </tr>\n",
              "    <tr>\n",
              "      <th>1</th>\n",
              "      <td>Delhi</td>\n",
              "      <td>Delhi</td>\n",
              "      <td>M.C</td>\n",
              "      <td>11007835.0</td>\n",
              "      <td>858.0</td>\n",
              "      <td>27.0</td>\n",
              "      <td>30.0</td>\n",
              "      <td>MEDIUM</td>\n",
              "      <td>215.0</td>\n",
              "      <td>196.0</td>\n",
              "      <td>0.920018</td>\n",
              "      <td>9444722.0</td>\n",
              "      <td>148.0</td>\n",
              "      <td>2379169.0</td>\n",
              "      <td>80188</td>\n",
              "    </tr>\n",
              "    <tr>\n",
              "      <th>2</th>\n",
              "      <td>Bangalore</td>\n",
              "      <td>Karnataka</td>\n",
              "      <td>MPUA</td>\n",
              "      <td>8436675.0</td>\n",
              "      <td>936.0</td>\n",
              "      <td>28.0</td>\n",
              "      <td>37.0</td>\n",
              "      <td>HIGH</td>\n",
              "      <td>212.0</td>\n",
              "      <td>102.0</td>\n",
              "      <td>0.097085</td>\n",
              "      <td>7896728.0</td>\n",
              "      <td>123.0</td>\n",
              "      <td>636502.0</td>\n",
              "      <td>141000</td>\n",
              "    </tr>\n",
              "    <tr>\n",
              "      <th>3</th>\n",
              "      <td>Hyderabad</td>\n",
              "      <td>Telangana</td>\n",
              "      <td>MPUA</td>\n",
              "      <td>6809970.0</td>\n",
              "      <td>930.0</td>\n",
              "      <td>23.0</td>\n",
              "      <td>31.0</td>\n",
              "      <td>MEDIUM</td>\n",
              "      <td>217.0</td>\n",
              "      <td>118.0</td>\n",
              "      <td>0.827744</td>\n",
              "      <td>6333272.0</td>\n",
              "      <td>110.0</td>\n",
              "      <td>126078.0</td>\n",
              "      <td>55123</td>\n",
              "    </tr>\n",
              "    <tr>\n",
              "      <th>4</th>\n",
              "      <td>Ahmedabad</td>\n",
              "      <td>Gujarat</td>\n",
              "      <td>MPUA</td>\n",
              "      <td>5570585.0</td>\n",
              "      <td>852.0</td>\n",
              "      <td>29.0</td>\n",
              "      <td>25.0</td>\n",
              "      <td>LOW</td>\n",
              "      <td>227.0</td>\n",
              "      <td>109.0</td>\n",
              "      <td>0.847941</td>\n",
              "      <td>4746138.0</td>\n",
              "      <td>73.0</td>\n",
              "      <td>284973.0</td>\n",
              "      <td>33204</td>\n",
              "    </tr>\n",
              "  </tbody>\n",
              "</table>\n",
              "</div>"
            ],
            "text/plain": [
              "        City        State  Type  ...  # of hospitals  Foreign Visitors  Covid Cases\n",
              "0     Mumbai  Maharashtra   M.C  ...           159.0         4408916.0       163115\n",
              "1      Delhi        Delhi   M.C  ...           148.0         2379169.0        80188\n",
              "2  Bangalore    Karnataka  MPUA  ...           123.0          636502.0       141000\n",
              "3  Hyderabad    Telangana  MPUA  ...           110.0          126078.0        55123\n",
              "4  Ahmedabad      Gujarat  MPUA  ...            73.0          284973.0        33204\n",
              "\n",
              "[5 rows x 15 columns]"
            ]
          },
          "metadata": {
            "tags": []
          },
          "execution_count": 1791
        }
      ]
    },
    {
      "cell_type": "code",
      "metadata": {
        "id": "bVg3L3QFwiiA",
        "colab_type": "code",
        "colab": {
          "base_uri": "https://localhost:8080/",
          "height": 101
        },
        "outputId": "a787128d-2c3f-46c8-9327-e524368cd6dc"
      },
      "source": [
        "uniq = dataset['Type'].unique()\n",
        "uniq"
      ],
      "execution_count": null,
      "outputs": [
        {
          "output_type": "execute_result",
          "data": {
            "text/plain": [
              "array(['M.C', 'MPUA', 'T', 'M', 'C-1T', 'M.Cl', 'M.Corp', 'N.P', 'UA',\n",
              "       'M.B.', 'N.Pd', 'M.Cl.', 'M.B', 'N.P.P', 'CMC', 'C.T', 'C.M.C',\n",
              "       'N.P.', 'Nagar Parishad', 'N.A.C', 'MB', 'M Cl', 'M.Corp.', 'U.A',\n",
              "       'N.P.P.', 'T.C', 'T.M.C', 'N.T', 'C.B', 'NPP', 'T.M.C.', 'NP',\n",
              "       'Np', 'C.T.', 'T.P', 'N.A', 'T.P.'], dtype=object)"
            ]
          },
          "metadata": {
            "tags": []
          },
          "execution_count": 1792
        }
      ]
    },
    {
      "cell_type": "code",
      "metadata": {
        "id": "9bThavsU6Pbz",
        "colab_type": "code",
        "colab": {}
      },
      "source": [
        "Type_en = pd.DataFrame(uniq, columns=['Type'])"
      ],
      "execution_count": null,
      "outputs": []
    },
    {
      "cell_type": "code",
      "metadata": {
        "id": "QFkR7nDO7dlS",
        "colab_type": "code",
        "colab": {}
      },
      "source": [
        "from sklearn.preprocessing import LabelEncoder\n",
        "label_encoder = LabelEncoder()\n",
        "dataset['Type']= label_encoder.fit_transform(dataset['Type']) "
      ],
      "execution_count": null,
      "outputs": []
    },
    {
      "cell_type": "code",
      "metadata": {
        "id": "iCirHHfkHN5L",
        "colab_type": "code",
        "colab": {}
      },
      "source": [
        "dataset['SWM']=dataset['SWM'].replace('LOW',1)\n",
        "dataset['SWM']=dataset['SWM'].replace('MEDIUM',2)\n",
        "dataset['SWM']=dataset['SWM'].replace('HIGH',3)"
      ],
      "execution_count": null,
      "outputs": []
    },
    {
      "cell_type": "code",
      "metadata": {
        "id": "a7jCQanX_eVx",
        "colab_type": "code",
        "colab": {
          "base_uri": "https://localhost:8080/",
          "height": 212
        },
        "outputId": "aa9b744d-f882-4a81-8751-08d9f578b04f"
      },
      "source": [
        "#printing Last 5 rows of dataset\n",
        "dataset.head()"
      ],
      "execution_count": null,
      "outputs": [
        {
          "output_type": "execute_result",
          "data": {
            "text/html": [
              "<div>\n",
              "<style scoped>\n",
              "    .dataframe tbody tr th:only-of-type {\n",
              "        vertical-align: middle;\n",
              "    }\n",
              "\n",
              "    .dataframe tbody tr th {\n",
              "        vertical-align: top;\n",
              "    }\n",
              "\n",
              "    .dataframe thead th {\n",
              "        text-align: right;\n",
              "    }\n",
              "</style>\n",
              "<table border=\"1\" class=\"dataframe\">\n",
              "  <thead>\n",
              "    <tr style=\"text-align: right;\">\n",
              "      <th></th>\n",
              "      <th>City</th>\n",
              "      <th>State</th>\n",
              "      <th>Type</th>\n",
              "      <th>Population [2011]</th>\n",
              "      <th>Sex Ratio</th>\n",
              "      <th>Median Age</th>\n",
              "      <th>Avg Temp</th>\n",
              "      <th>SWM</th>\n",
              "      <th>Toilets Avl</th>\n",
              "      <th>Water Purity</th>\n",
              "      <th>H Index</th>\n",
              "      <th>Female Population</th>\n",
              "      <th># of hospitals</th>\n",
              "      <th>Foreign Visitors</th>\n",
              "      <th>Covid Cases</th>\n",
              "    </tr>\n",
              "  </thead>\n",
              "  <tbody>\n",
              "    <tr>\n",
              "      <th>0</th>\n",
              "      <td>Mumbai</td>\n",
              "      <td>Maharashtra</td>\n",
              "      <td>10</td>\n",
              "      <td>12442373.0</td>\n",
              "      <td>878.0</td>\n",
              "      <td>23.0</td>\n",
              "      <td>32.0</td>\n",
              "      <td>2.0</td>\n",
              "      <td>219.0</td>\n",
              "      <td>150.0</td>\n",
              "      <td>0.700440</td>\n",
              "      <td>10924403.0</td>\n",
              "      <td>159.0</td>\n",
              "      <td>4408916.0</td>\n",
              "      <td>163115</td>\n",
              "    </tr>\n",
              "    <tr>\n",
              "      <th>1</th>\n",
              "      <td>Delhi</td>\n",
              "      <td>Delhi</td>\n",
              "      <td>10</td>\n",
              "      <td>11007835.0</td>\n",
              "      <td>858.0</td>\n",
              "      <td>27.0</td>\n",
              "      <td>30.0</td>\n",
              "      <td>2.0</td>\n",
              "      <td>215.0</td>\n",
              "      <td>196.0</td>\n",
              "      <td>0.920018</td>\n",
              "      <td>9444722.0</td>\n",
              "      <td>148.0</td>\n",
              "      <td>2379169.0</td>\n",
              "      <td>80188</td>\n",
              "    </tr>\n",
              "    <tr>\n",
              "      <th>2</th>\n",
              "      <td>Bangalore</td>\n",
              "      <td>Karnataka</td>\n",
              "      <td>16</td>\n",
              "      <td>8436675.0</td>\n",
              "      <td>936.0</td>\n",
              "      <td>28.0</td>\n",
              "      <td>37.0</td>\n",
              "      <td>3.0</td>\n",
              "      <td>212.0</td>\n",
              "      <td>102.0</td>\n",
              "      <td>0.097085</td>\n",
              "      <td>7896728.0</td>\n",
              "      <td>123.0</td>\n",
              "      <td>636502.0</td>\n",
              "      <td>141000</td>\n",
              "    </tr>\n",
              "    <tr>\n",
              "      <th>3</th>\n",
              "      <td>Hyderabad</td>\n",
              "      <td>Telangana</td>\n",
              "      <td>16</td>\n",
              "      <td>6809970.0</td>\n",
              "      <td>930.0</td>\n",
              "      <td>23.0</td>\n",
              "      <td>31.0</td>\n",
              "      <td>2.0</td>\n",
              "      <td>217.0</td>\n",
              "      <td>118.0</td>\n",
              "      <td>0.827744</td>\n",
              "      <td>6333272.0</td>\n",
              "      <td>110.0</td>\n",
              "      <td>126078.0</td>\n",
              "      <td>55123</td>\n",
              "    </tr>\n",
              "    <tr>\n",
              "      <th>4</th>\n",
              "      <td>Ahmedabad</td>\n",
              "      <td>Gujarat</td>\n",
              "      <td>16</td>\n",
              "      <td>5570585.0</td>\n",
              "      <td>852.0</td>\n",
              "      <td>29.0</td>\n",
              "      <td>25.0</td>\n",
              "      <td>1.0</td>\n",
              "      <td>227.0</td>\n",
              "      <td>109.0</td>\n",
              "      <td>0.847941</td>\n",
              "      <td>4746138.0</td>\n",
              "      <td>73.0</td>\n",
              "      <td>284973.0</td>\n",
              "      <td>33204</td>\n",
              "    </tr>\n",
              "  </tbody>\n",
              "</table>\n",
              "</div>"
            ],
            "text/plain": [
              "        City        State  Type  ...  # of hospitals  Foreign Visitors  Covid Cases\n",
              "0     Mumbai  Maharashtra    10  ...           159.0         4408916.0       163115\n",
              "1      Delhi        Delhi    10  ...           148.0         2379169.0        80188\n",
              "2  Bangalore    Karnataka    16  ...           123.0          636502.0       141000\n",
              "3  Hyderabad    Telangana    16  ...           110.0          126078.0        55123\n",
              "4  Ahmedabad      Gujarat    16  ...            73.0          284973.0        33204\n",
              "\n",
              "[5 rows x 15 columns]"
            ]
          },
          "metadata": {
            "tags": []
          },
          "execution_count": 1796
        }
      ]
    },
    {
      "cell_type": "code",
      "metadata": {
        "id": "Lz_uQadHRrJ9",
        "colab_type": "code",
        "colab": {
          "base_uri": "https://localhost:8080/",
          "height": 286
        },
        "outputId": "000ee621-b180-4a4c-dc95-81238c948b8a"
      },
      "source": [
        "dataset.isnull().sum()"
      ],
      "execution_count": null,
      "outputs": [
        {
          "output_type": "execute_result",
          "data": {
            "text/plain": [
              "City                   0\n",
              "State                  0\n",
              "Type                   0\n",
              "Population [2011]     48\n",
              "Sex Ratio             10\n",
              "Median Age            18\n",
              "Avg Temp              17\n",
              "SWM                    4\n",
              "Toilets Avl           26\n",
              "Water Purity         158\n",
              "H Index              140\n",
              "Female Population    141\n",
              "# of hospitals        15\n",
              "Foreign Visitors      90\n",
              "Covid Cases            0\n",
              "dtype: int64"
            ]
          },
          "metadata": {
            "tags": []
          },
          "execution_count": 1797
        }
      ]
    },
    {
      "cell_type": "code",
      "metadata": {
        "id": "Enpv4hlY_g6J",
        "colab_type": "code",
        "colab": {
          "base_uri": "https://localhost:8080/",
          "height": 403
        },
        "outputId": "33e891e5-1fbb-4b1f-aabb-de56d7f26218"
      },
      "source": [
        "# priting datatype and counts and non null.\n",
        "dataset.info()\n",
        "dataset.shape"
      ],
      "execution_count": null,
      "outputs": [
        {
          "output_type": "stream",
          "text": [
            "<class 'pandas.core.frame.DataFrame'>\n",
            "RangeIndex: 787 entries, 0 to 786\n",
            "Data columns (total 15 columns):\n",
            " #   Column             Non-Null Count  Dtype  \n",
            "---  ------             --------------  -----  \n",
            " 0   City               787 non-null    object \n",
            " 1   State              787 non-null    object \n",
            " 2   Type               787 non-null    int64  \n",
            " 3   Population [2011]  739 non-null    float64\n",
            " 4   Sex Ratio          777 non-null    float64\n",
            " 5   Median Age         769 non-null    float64\n",
            " 6   Avg Temp           770 non-null    float64\n",
            " 7   SWM                783 non-null    float64\n",
            " 8   Toilets Avl        761 non-null    float64\n",
            " 9   Water Purity       629 non-null    float64\n",
            " 10  H Index            647 non-null    float64\n",
            " 11  Female Population  646 non-null    float64\n",
            " 12  # of hospitals     772 non-null    float64\n",
            " 13  Foreign Visitors   697 non-null    float64\n",
            " 14  Covid Cases        787 non-null    int64  \n",
            "dtypes: float64(11), int64(2), object(2)\n",
            "memory usage: 92.4+ KB\n"
          ],
          "name": "stdout"
        },
        {
          "output_type": "execute_result",
          "data": {
            "text/plain": [
              "(787, 15)"
            ]
          },
          "metadata": {
            "tags": []
          },
          "execution_count": 1798
        }
      ]
    },
    {
      "cell_type": "code",
      "metadata": {
        "id": "D7kkEAxu_jVb",
        "colab_type": "code",
        "colab": {}
      },
      "source": [
        "# # Printing count,min,max,std,mean,etc.\n",
        "# #dataset.describe()\n",
        "# from sklearn.preprocessing import StandardScaler\n",
        "# def normalize(colname):\n",
        "#   data=dataset[[colname]]\n",
        "#   scaler = StandardScaler()\n",
        "#   scaler.fit(data)\n",
        "#   StandardScaler()\n",
        "#   scaler.mean_\n",
        "#   data=scaler.transform(data)\n",
        "#   dataset[[colname]]=data\n",
        "\n"
      ],
      "execution_count": null,
      "outputs": []
    },
    {
      "cell_type": "code",
      "metadata": {
        "id": "DjvB8xAlI2j9",
        "colab_type": "code",
        "colab": {
          "base_uri": "https://localhost:8080/",
          "height": 212
        },
        "outputId": "8f3f1e84-5c99-42d8-9bcd-6024d4f9b98f"
      },
      "source": [
        "dataset.head()"
      ],
      "execution_count": null,
      "outputs": [
        {
          "output_type": "execute_result",
          "data": {
            "text/html": [
              "<div>\n",
              "<style scoped>\n",
              "    .dataframe tbody tr th:only-of-type {\n",
              "        vertical-align: middle;\n",
              "    }\n",
              "\n",
              "    .dataframe tbody tr th {\n",
              "        vertical-align: top;\n",
              "    }\n",
              "\n",
              "    .dataframe thead th {\n",
              "        text-align: right;\n",
              "    }\n",
              "</style>\n",
              "<table border=\"1\" class=\"dataframe\">\n",
              "  <thead>\n",
              "    <tr style=\"text-align: right;\">\n",
              "      <th></th>\n",
              "      <th>City</th>\n",
              "      <th>State</th>\n",
              "      <th>Type</th>\n",
              "      <th>Population [2011]</th>\n",
              "      <th>Sex Ratio</th>\n",
              "      <th>Median Age</th>\n",
              "      <th>Avg Temp</th>\n",
              "      <th>SWM</th>\n",
              "      <th>Toilets Avl</th>\n",
              "      <th>Water Purity</th>\n",
              "      <th>H Index</th>\n",
              "      <th>Female Population</th>\n",
              "      <th># of hospitals</th>\n",
              "      <th>Foreign Visitors</th>\n",
              "      <th>Covid Cases</th>\n",
              "    </tr>\n",
              "  </thead>\n",
              "  <tbody>\n",
              "    <tr>\n",
              "      <th>0</th>\n",
              "      <td>Mumbai</td>\n",
              "      <td>Maharashtra</td>\n",
              "      <td>10</td>\n",
              "      <td>12442373.0</td>\n",
              "      <td>878.0</td>\n",
              "      <td>23.0</td>\n",
              "      <td>32.0</td>\n",
              "      <td>2.0</td>\n",
              "      <td>219.0</td>\n",
              "      <td>150.0</td>\n",
              "      <td>0.700440</td>\n",
              "      <td>10924403.0</td>\n",
              "      <td>159.0</td>\n",
              "      <td>4408916.0</td>\n",
              "      <td>163115</td>\n",
              "    </tr>\n",
              "    <tr>\n",
              "      <th>1</th>\n",
              "      <td>Delhi</td>\n",
              "      <td>Delhi</td>\n",
              "      <td>10</td>\n",
              "      <td>11007835.0</td>\n",
              "      <td>858.0</td>\n",
              "      <td>27.0</td>\n",
              "      <td>30.0</td>\n",
              "      <td>2.0</td>\n",
              "      <td>215.0</td>\n",
              "      <td>196.0</td>\n",
              "      <td>0.920018</td>\n",
              "      <td>9444722.0</td>\n",
              "      <td>148.0</td>\n",
              "      <td>2379169.0</td>\n",
              "      <td>80188</td>\n",
              "    </tr>\n",
              "    <tr>\n",
              "      <th>2</th>\n",
              "      <td>Bangalore</td>\n",
              "      <td>Karnataka</td>\n",
              "      <td>16</td>\n",
              "      <td>8436675.0</td>\n",
              "      <td>936.0</td>\n",
              "      <td>28.0</td>\n",
              "      <td>37.0</td>\n",
              "      <td>3.0</td>\n",
              "      <td>212.0</td>\n",
              "      <td>102.0</td>\n",
              "      <td>0.097085</td>\n",
              "      <td>7896728.0</td>\n",
              "      <td>123.0</td>\n",
              "      <td>636502.0</td>\n",
              "      <td>141000</td>\n",
              "    </tr>\n",
              "    <tr>\n",
              "      <th>3</th>\n",
              "      <td>Hyderabad</td>\n",
              "      <td>Telangana</td>\n",
              "      <td>16</td>\n",
              "      <td>6809970.0</td>\n",
              "      <td>930.0</td>\n",
              "      <td>23.0</td>\n",
              "      <td>31.0</td>\n",
              "      <td>2.0</td>\n",
              "      <td>217.0</td>\n",
              "      <td>118.0</td>\n",
              "      <td>0.827744</td>\n",
              "      <td>6333272.0</td>\n",
              "      <td>110.0</td>\n",
              "      <td>126078.0</td>\n",
              "      <td>55123</td>\n",
              "    </tr>\n",
              "    <tr>\n",
              "      <th>4</th>\n",
              "      <td>Ahmedabad</td>\n",
              "      <td>Gujarat</td>\n",
              "      <td>16</td>\n",
              "      <td>5570585.0</td>\n",
              "      <td>852.0</td>\n",
              "      <td>29.0</td>\n",
              "      <td>25.0</td>\n",
              "      <td>1.0</td>\n",
              "      <td>227.0</td>\n",
              "      <td>109.0</td>\n",
              "      <td>0.847941</td>\n",
              "      <td>4746138.0</td>\n",
              "      <td>73.0</td>\n",
              "      <td>284973.0</td>\n",
              "      <td>33204</td>\n",
              "    </tr>\n",
              "  </tbody>\n",
              "</table>\n",
              "</div>"
            ],
            "text/plain": [
              "        City        State  Type  ...  # of hospitals  Foreign Visitors  Covid Cases\n",
              "0     Mumbai  Maharashtra    10  ...           159.0         4408916.0       163115\n",
              "1      Delhi        Delhi    10  ...           148.0         2379169.0        80188\n",
              "2  Bangalore    Karnataka    16  ...           123.0          636502.0       141000\n",
              "3  Hyderabad    Telangana    16  ...           110.0          126078.0        55123\n",
              "4  Ahmedabad      Gujarat    16  ...            73.0          284973.0        33204\n",
              "\n",
              "[5 rows x 15 columns]"
            ]
          },
          "metadata": {
            "tags": []
          },
          "execution_count": 1800
        }
      ]
    },
    {
      "cell_type": "code",
      "metadata": {
        "id": "j5IdoWQZwx77",
        "colab_type": "code",
        "colab": {
          "base_uri": "https://localhost:8080/",
          "height": 300
        },
        "outputId": "b4b9cc51-9f84-40fa-ebed-0169d0c0b8db"
      },
      "source": [
        "sns.distplot(dataset['H Index'])"
      ],
      "execution_count": null,
      "outputs": [
        {
          "output_type": "execute_result",
          "data": {
            "text/plain": [
              "<matplotlib.axes._subplots.AxesSubplot at 0x7f44a84697f0>"
            ]
          },
          "metadata": {
            "tags": []
          },
          "execution_count": 1801
        },
        {
          "output_type": "display_data",
          "data": {
            "image/png": "[encoded data removed]",
            "text/plain": [
              "<Figure size 432x288 with 1 Axes>"
            ]
          },
          "metadata": {
            "tags": [],
            "needs_background": "light"
          }
        }
      ]
    },
    {
      "cell_type": "code",
      "metadata": {
        "id": "1iYucKZ5xtrd",
        "colab_type": "code",
        "colab": {
          "base_uri": "https://localhost:8080/",
          "height": 296
        },
        "outputId": "27c9eb74-04d3-4976-a925-652e498b14b8"
      },
      "source": [
        "sns.distplot(dataset['Avg Temp'])"
      ],
      "execution_count": null,
      "outputs": [
        {
          "output_type": "execute_result",
          "data": {
            "text/plain": [
              "<matplotlib.axes._subplots.AxesSubplot at 0x7f44a7e84978>"
            ]
          },
          "metadata": {
            "tags": []
          },
          "execution_count": 1802
        },
        {
          "output_type": "display_data",
          "data": {
            "image/png": "[encoded data removed]",
            "text/plain": [
              "<Figure size 432x288 with 1 Axes>"
            ]
          },
          "metadata": {
            "tags": [],
            "needs_background": "light"
          }
        }
      ]
    },
    {
      "cell_type": "code",
      "metadata": {
        "id": "gB49Is_nxlLV",
        "colab_type": "code",
        "colab": {
          "base_uri": "https://localhost:8080/",
          "height": 296
        },
        "outputId": "1f0cbabf-3c03-4485-e086-813deb85d7cf"
      },
      "source": [
        "sns.distplot(dataset['# of hospitals'])"
      ],
      "execution_count": null,
      "outputs": [
        {
          "output_type": "execute_result",
          "data": {
            "text/plain": [
              "<matplotlib.axes._subplots.AxesSubplot at 0x7f44a7e17438>"
            ]
          },
          "metadata": {
            "tags": []
          },
          "execution_count": 1803
        },
        {
          "output_type": "display_data",
          "data": {
            "image/png": "[encoded data removed]",
            "text/plain": [
              "<Figure size 432x288 with 1 Axes>"
            ]
          },
          "metadata": {
            "tags": [],
            "needs_background": "light"
          }
        }
      ]
    },
    {
      "cell_type": "code",
      "metadata": {
        "id": "p8K3wqCRw0j_",
        "colab_type": "code",
        "colab": {
          "base_uri": "https://localhost:8080/",
          "height": 296
        },
        "outputId": "7588a557-951a-4be9-f72f-0bf563fa551e"
      },
      "source": [
        "sns.distplot(dataset['Water Purity'])"
      ],
      "execution_count": null,
      "outputs": [
        {
          "output_type": "execute_result",
          "data": {
            "text/plain": [
              "<matplotlib.axes._subplots.AxesSubplot at 0x7f44a7d83518>"
            ]
          },
          "metadata": {
            "tags": []
          },
          "execution_count": 1804
        },
        {
          "output_type": "display_data",
          "data": {
            "image/png": "[encoded data removed]",
            "text/plain": [
              "<Figure size 432x288 with 1 Axes>"
            ]
          },
          "metadata": {
            "tags": [],
            "needs_background": "light"
          }
        }
      ]
    },
    {
      "cell_type": "code",
      "metadata": {
        "id": "wHTJJKb0Ncco",
        "colab_type": "code",
        "colab": {
          "base_uri": "https://localhost:8080/",
          "height": 296
        },
        "outputId": "99ad132c-3d76-4d82-9bac-98a954630c72"
      },
      "source": [
        "sns.distplot(dataset['Toilets Avl'])"
      ],
      "execution_count": null,
      "outputs": [
        {
          "output_type": "execute_result",
          "data": {
            "text/plain": [
              "<matplotlib.axes._subplots.AxesSubplot at 0x7f44a7d35f28>"
            ]
          },
          "metadata": {
            "tags": []
          },
          "execution_count": 1805
        },
        {
          "output_type": "display_data",
          "data": {
            "image/png": "[encoded data removed]",
            "text/plain": [
              "<Figure size 432x288 with 1 Axes>"
            ]
          },
          "metadata": {
            "tags": [],
            "needs_background": "light"
          }
        }
      ]
    },
    {
      "cell_type": "code",
      "metadata": {
        "id": "tJn4LY7qOBYX",
        "colab_type": "code",
        "colab": {
          "base_uri": "https://localhost:8080/",
          "height": 307
        },
        "outputId": "b0686596-2ed0-4822-ebbf-19fcc37cb1f5"
      },
      "source": [
        "sns.distplot(dataset['Foreign Visitors'])"
      ],
      "execution_count": null,
      "outputs": [
        {
          "output_type": "execute_result",
          "data": {
            "text/plain": [
              "<matplotlib.axes._subplots.AxesSubplot at 0x7f44a7c81e80>"
            ]
          },
          "metadata": {
            "tags": []
          },
          "execution_count": 1806
        },
        {
          "output_type": "display_data",
          "data": {
            "image/png": "[encoded data removed]",
            "text/plain": [
              "<Figure size 432x288 with 1 Axes>"
            ]
          },
          "metadata": {
            "tags": [],
            "needs_background": "light"
          }
        }
      ]
    },
    {
      "cell_type": "code",
      "metadata": {
        "id": "g2I4qAbsPdvn",
        "colab_type": "code",
        "colab": {
          "base_uri": "https://localhost:8080/",
          "height": 307
        },
        "outputId": "b0d18257-91d2-4ed6-e725-6ed571b60154"
      },
      "source": [
        "sns.distplot(dataset['Female Population'])"
      ],
      "execution_count": null,
      "outputs": [
        {
          "output_type": "execute_result",
          "data": {
            "text/plain": [
              "<matplotlib.axes._subplots.AxesSubplot at 0x7f44a7bfd438>"
            ]
          },
          "metadata": {
            "tags": []
          },
          "execution_count": 1807
        },
        {
          "output_type": "display_data",
          "data": {
            "image/png": "[encoded data removed]",
            "text/plain": [
              "<Figure size 432x288 with 1 Axes>"
            ]
          },
          "metadata": {
            "tags": [],
            "needs_background": "light"
          }
        }
      ]
    },
    {
      "cell_type": "code",
      "metadata": {
        "id": "BqzaL1L4fRUi",
        "colab_type": "code",
        "colab": {
          "base_uri": "https://localhost:8080/",
          "height": 386
        },
        "outputId": "2f4fe198-497a-4336-c783-e53fe095086a"
      },
      "source": [
        "sns.relplot(x='Foreign Visitors',y='Population [2011]',hue=\"Covid Cases\",data=dataset)"
      ],
      "execution_count": null,
      "outputs": [
        {
          "output_type": "execute_result",
          "data": {
            "text/plain": [
              "<seaborn.axisgrid.FacetGrid at 0x7f44a7b3b5f8>"
            ]
          },
          "metadata": {
            "tags": []
          },
          "execution_count": 1808
        },
        {
          "output_type": "display_data",
          "data": {
            "image/png": "[encoded data removed]",
            "text/plain": [
              "<Figure size 456.75x360 with 1 Axes>"
            ]
          },
          "metadata": {
            "tags": [],
            "needs_background": "light"
          }
        }
      ]
    },
    {
      "cell_type": "code",
      "metadata": {
        "id": "4FOwOT-bLXA4",
        "colab_type": "code",
        "colab": {
          "base_uri": "https://localhost:8080/",
          "height": 296
        },
        "outputId": "67acf56c-9030-4428-9f0c-053cf276ca24"
      },
      "source": [
        "sns.scatterplot(x=dataset['SWM'],y=dataset['Covid Cases'],hue=dataset['Population [2011]'])"
      ],
      "execution_count": null,
      "outputs": [
        {
          "output_type": "execute_result",
          "data": {
            "text/plain": [
              "<matplotlib.axes._subplots.AxesSubplot at 0x7f44a7af5128>"
            ]
          },
          "metadata": {
            "tags": []
          },
          "execution_count": 1809
        },
        {
          "output_type": "display_data",
          "data": {
            "image/png": "[encoded data removed]",
            "text/plain": [
              "<Figure size 432x288 with 1 Axes>"
            ]
          },
          "metadata": {
            "tags": [],
            "needs_background": "light"
          }
        }
      ]
    },
    {
      "cell_type": "code",
      "metadata": {
        "id": "YFa5lGFXTln2",
        "colab_type": "code",
        "colab": {
          "base_uri": "https://localhost:8080/",
          "height": 296
        },
        "outputId": "f0315acc-d0ba-46c2-fcb8-cdd7728933ae"
      },
      "source": [
        "sns.barplot(x=dataset['SWM'],y=dataset['Covid Cases'])"
      ],
      "execution_count": null,
      "outputs": [
        {
          "output_type": "execute_result",
          "data": {
            "text/plain": [
              "<matplotlib.axes._subplots.AxesSubplot at 0x7f44a7aa89e8>"
            ]
          },
          "metadata": {
            "tags": []
          },
          "execution_count": 1810
        },
        {
          "output_type": "display_data",
          "data": {
            "image/png": "[encoded data removed]",
            "text/plain": [
              "<Figure size 432x288 with 1 Axes>"
            ]
          },
          "metadata": {
            "tags": [],
            "needs_background": "light"
          }
        }
      ]
    },
    {
      "cell_type": "code",
      "metadata": {
        "id": "MTr04ICVTp6d",
        "colab_type": "code",
        "colab": {
          "base_uri": "https://localhost:8080/",
          "height": 296
        },
        "outputId": "bdcd69e3-68c1-42fa-e394-852b25919fe2"
      },
      "source": [
        "sns.scatterplot(x=dataset['Avg Temp'],y=dataset['Covid Cases'])"
      ],
      "execution_count": null,
      "outputs": [
        {
          "output_type": "execute_result",
          "data": {
            "text/plain": [
              "<matplotlib.axes._subplots.AxesSubplot at 0x7f44a7a8ceb8>"
            ]
          },
          "metadata": {
            "tags": []
          },
          "execution_count": 1811
        },
        {
          "output_type": "display_data",
          "data": {
            "image/png": "[encoded data removed]",
            "text/plain": [
              "<Figure size 432x288 with 1 Axes>"
            ]
          },
          "metadata": {
            "tags": [],
            "needs_background": "light"
          }
        }
      ]
    },
    {
      "cell_type": "code",
      "metadata": {
        "id": "eS9FfGv8-odG",
        "colab_type": "code",
        "colab": {
          "base_uri": "https://localhost:8080/",
          "height": 296
        },
        "outputId": "a719030d-3498-43aa-fa99-681ee9819d2e"
      },
      "source": [
        "sns.barplot(x=dataset['Type'],y=dataset['Covid Cases'])"
      ],
      "execution_count": null,
      "outputs": [
        {
          "output_type": "execute_result",
          "data": {
            "text/plain": [
              "<matplotlib.axes._subplots.AxesSubplot at 0x7f44a7937438>"
            ]
          },
          "metadata": {
            "tags": []
          },
          "execution_count": 1812
        },
        {
          "output_type": "display_data",
          "data": {
            "image/png": "[encoded data removed]",
            "text/plain": [
              "<Figure size 432x288 with 1 Axes>"
            ]
          },
          "metadata": {
            "tags": [],
            "needs_background": "light"
          }
        }
      ]
    },
    {
      "cell_type": "code",
      "metadata": {
        "id": "bDVis79fGCVY",
        "colab_type": "code",
        "colab": {
          "base_uri": "https://localhost:8080/",
          "height": 677
        },
        "outputId": "5e37796d-05ce-43bd-c0d6-c8be5da7a319"
      },
      "source": [
        "fig,ax=plt.subplots(figsize=(15,10))\n",
        "sns.heatmap(dataset.corr(),cmap='plasma',annot=True);"
      ],
      "execution_count": null,
      "outputs": [
        {
          "output_type": "display_data",
          "data": {
            "image/png": "[encoded data removed]",
            "text/plain": [
              "<Figure size 1080x720 with 2 Axes>"
            ]
          },
          "metadata": {
            "tags": [],
            "needs_background": "light"
          }
        }
      ]
    },
    {
      "cell_type": "code",
      "metadata": {
        "id": "U_4Kax3ey-j6",
        "colab_type": "code",
        "colab": {
          "base_uri": "https://localhost:8080/",
          "height": 307
        },
        "outputId": "032499e2-0861-4fcb-b080-2a2ed86cfc20"
      },
      "source": [
        "sns.distplot(dataset['Population [2011]'])"
      ],
      "execution_count": null,
      "outputs": [
        {
          "output_type": "execute_result",
          "data": {
            "text/plain": [
              "<matplotlib.axes._subplots.AxesSubplot at 0x7f44a77522b0>"
            ]
          },
          "metadata": {
            "tags": []
          },
          "execution_count": 1814
        },
        {
          "output_type": "display_data",
          "data": {
            "image/png": "[encoded data removed]",
            "text/plain": [
              "<Figure size 432x288 with 1 Axes>"
            ]
          },
          "metadata": {
            "tags": [],
            "needs_background": "light"
          }
        }
      ]
    },
    {
      "cell_type": "code",
      "metadata": {
        "id": "zHe-Hng2yAFj",
        "colab_type": "code",
        "colab": {
          "base_uri": "https://localhost:8080/",
          "height": 363
        },
        "outputId": "ebdd1338-67bc-4c1d-dd08-a78cc3175209"
      },
      "source": [
        "sns.barplot(x=dataset[dataset['Type']==3]['Population [2011]'],y=dataset[dataset['Type']==3]['Covid Cases'])\n",
        "dataset.columns"
      ],
      "execution_count": null,
      "outputs": [
        {
          "output_type": "execute_result",
          "data": {
            "text/plain": [
              "Index(['City', 'State', 'Type', 'Population [2011]', 'Sex Ratio', 'Median Age',\n",
              "       'Avg Temp', 'SWM', 'Toilets Avl', 'Water Purity', 'H Index',\n",
              "       'Female Population', '# of hospitals', 'Foreign Visitors',\n",
              "       'Covid Cases'],\n",
              "      dtype='object')"
            ]
          },
          "metadata": {
            "tags": []
          },
          "execution_count": 1815
        },
        {
          "output_type": "display_data",
          "data": {
            "image/png": "[encoded data removed]",
            "text/plain": [
              "<Figure size 432x288 with 1 Axes>"
            ]
          },
          "metadata": {
            "tags": [],
            "needs_background": "light"
          }
        }
      ]
    },
    {
      "cell_type": "code",
      "metadata": {
        "id": "ZqT3FlbJc14I",
        "colab_type": "code",
        "colab": {}
      },
      "source": [
        "features=[\"Population [2011]\",\"Toilets Avl\",\"# of hospitals\",\"Foreign Visitors\",\"SWM\",'Median Age','H Index','Female Population']"
      ],
      "execution_count": null,
      "outputs": []
    },
    {
      "cell_type": "code",
      "metadata": {
        "id": "iJ0Ae2QRW9tc",
        "colab_type": "code",
        "colab": {}
      },
      "source": [
        "dataset1 = dataset.dropna()\n",
        "#train_X=train_X.values\n",
        "Y=dataset1[[\"Covid Cases\"]]\n",
        "X=dataset1[features]"
      ],
      "execution_count": null,
      "outputs": []
    },
    {
      "cell_type": "code",
      "metadata": {
        "id": "TSTSxksYJ0uQ",
        "colab_type": "code",
        "colab": {
          "base_uri": "https://localhost:8080/",
          "height": 34
        },
        "outputId": "677d6339-3cac-4617-8365-1b96d4b29872"
      },
      "source": [
        "dataset1[[\"Covid Cases\"]].shape"
      ],
      "execution_count": null,
      "outputs": [
        {
          "output_type": "execute_result",
          "data": {
            "text/plain": [
              "(483, 1)"
            ]
          },
          "metadata": {
            "tags": []
          },
          "execution_count": 1818
        }
      ]
    },
    {
      "cell_type": "code",
      "metadata": {
        "id": "4TWfHQHw1QzH",
        "colab_type": "code",
        "colab": {
          "base_uri": "https://localhost:8080/",
          "height": 450
        },
        "outputId": "d11ec8c3-62d1-4422-a97a-910033138f8d"
      },
      "source": [
        "from sklearn.preprocessing import QuantileTransformer\n",
        "\n",
        "pt = QuantileTransformer()\n",
        "pt.fit(X['SWM'].values.reshape(-1,1))\n",
        "X['SWM'] = pt.transform(X['SWM'].values.reshape(-1,1))\n",
        "sns.distplot(X['SWM'])"
      ],
      "execution_count": null,
      "outputs": [
        {
          "output_type": "stream",
          "text": [
            "/usr/local/lib/python3.6/dist-packages/sklearn/preprocessing/_data.py:2357: UserWarning: n_quantiles (1000) is greater than the total number of samples (483). n_quantiles is set to n_samples.\n",
            "  % (self.n_quantiles, n_samples))\n",
            "/usr/local/lib/python3.6/dist-packages/ipykernel_launcher.py:5: SettingWithCopyWarning: \n",
            "A value is trying to be set on a copy of a slice from a DataFrame.\n",
            "Try using .loc[row_indexer,col_indexer] = value instead\n",
            "\n",
            "See the caveats in the documentation: https://pandas.pydata.org/pandas-docs/stable/user_guide/indexing.html#returning-a-view-versus-a-copy\n",
            "  \"\"\"\n"
          ],
          "name": "stderr"
        },
        {
          "output_type": "execute_result",
          "data": {
            "text/plain": [
              "<matplotlib.axes._subplots.AxesSubplot at 0x7f44a74919b0>"
            ]
          },
          "metadata": {
            "tags": []
          },
          "execution_count": 1819
        },
        {
          "output_type": "display_data",
          "data": {
            "image/png": "[encoded data removed]",
            "text/plain": [
              "<Figure size 432x288 with 1 Axes>"
            ]
          },
          "metadata": {
            "tags": [],
            "needs_background": "light"
          }
        }
      ]
    },
    {
      "cell_type": "code",
      "metadata": {
        "id": "LglGh83A16_-",
        "colab_type": "code",
        "colab": {
          "base_uri": "https://localhost:8080/",
          "height": 452
        },
        "outputId": "ff83b10b-20db-41b5-b240-c61fd4203dea"
      },
      "source": [
        "from sklearn.preprocessing import QuantileTransformer\n",
        "\n",
        "pt = QuantileTransformer()\n",
        "pt.fit(X['Foreign Visitors'].values.reshape(-1,1))\n",
        "X['Foreign Visitors'] = pt.transform(X['Foreign Visitors'].values.reshape(-1,1))\n",
        "sns.distplot(X['Foreign Visitors'])"
      ],
      "execution_count": null,
      "outputs": [
        {
          "output_type": "stream",
          "text": [
            "/usr/local/lib/python3.6/dist-packages/sklearn/preprocessing/_data.py:2357: UserWarning: n_quantiles (1000) is greater than the total number of samples (483). n_quantiles is set to n_samples.\n",
            "  % (self.n_quantiles, n_samples))\n",
            "/usr/local/lib/python3.6/dist-packages/ipykernel_launcher.py:5: SettingWithCopyWarning: \n",
            "A value is trying to be set on a copy of a slice from a DataFrame.\n",
            "Try using .loc[row_indexer,col_indexer] = value instead\n",
            "\n",
            "See the caveats in the documentation: https://pandas.pydata.org/pandas-docs/stable/user_guide/indexing.html#returning-a-view-versus-a-copy\n",
            "  \"\"\"\n"
          ],
          "name": "stderr"
        },
        {
          "output_type": "execute_result",
          "data": {
            "text/plain": [
              "<matplotlib.axes._subplots.AxesSubplot at 0x7f44a7444400>"
            ]
          },
          "metadata": {
            "tags": []
          },
          "execution_count": 1820
        },
        {
          "output_type": "display_data",
          "data": {
            "image/png": "[encoded data removed]",
            "text/plain": [
              "<Figure size 432x288 with 1 Axes>"
            ]
          },
          "metadata": {
            "tags": [],
            "needs_background": "light"
          }
        }
      ]
    },
    {
      "cell_type": "code",
      "metadata": {
        "id": "HMcJh9qPYirC",
        "colab_type": "code",
        "colab": {
          "base_uri": "https://localhost:8080/",
          "height": 450
        },
        "outputId": "0baac9dd-4ac0-435a-b889-ac7162c32bf5"
      },
      "source": [
        "from sklearn.preprocessing import QuantileTransformer\n",
        "\n",
        "pt = QuantileTransformer()\n",
        "pt.fit(X['H Index'].values.reshape(-1,1))\n",
        "X['H Index'] = pt.transform(X['H Index'].values.reshape(-1,1))\n",
        "sns.distplot(X['H Index'])"
      ],
      "execution_count": null,
      "outputs": [
        {
          "output_type": "stream",
          "text": [
            "/usr/local/lib/python3.6/dist-packages/sklearn/preprocessing/_data.py:2357: UserWarning: n_quantiles (1000) is greater than the total number of samples (483). n_quantiles is set to n_samples.\n",
            "  % (self.n_quantiles, n_samples))\n",
            "/usr/local/lib/python3.6/dist-packages/ipykernel_launcher.py:5: SettingWithCopyWarning: \n",
            "A value is trying to be set on a copy of a slice from a DataFrame.\n",
            "Try using .loc[row_indexer,col_indexer] = value instead\n",
            "\n",
            "See the caveats in the documentation: https://pandas.pydata.org/pandas-docs/stable/user_guide/indexing.html#returning-a-view-versus-a-copy\n",
            "  \"\"\"\n"
          ],
          "name": "stderr"
        },
        {
          "output_type": "execute_result",
          "data": {
            "text/plain": [
              "<matplotlib.axes._subplots.AxesSubplot at 0x7f44a73f58d0>"
            ]
          },
          "metadata": {
            "tags": []
          },
          "execution_count": 1821
        },
        {
          "output_type": "display_data",
          "data": {
            "image/png": "[encoded data removed]",
            "text/plain": [
              "<Figure size 432x288 with 1 Axes>"
            ]
          },
          "metadata": {
            "tags": [],
            "needs_background": "light"
          }
        }
      ]
    },
    {
      "cell_type": "code",
      "metadata": {
        "id": "6hGDizjulk2Y",
        "colab_type": "code",
        "colab": {
          "base_uri": "https://localhost:8080/",
          "height": 451
        },
        "outputId": "2642a2b2-d81e-49cb-a8f2-3a83a21a9f7c"
      },
      "source": [
        "from sklearn.preprocessing import QuantileTransformer\n",
        "\n",
        "pt = QuantileTransformer()\n",
        "pt.fit(X['# of hospitals'].values.reshape(-1,1))\n",
        "X['# of hospitals'] = pt.transform(X['# of hospitals'].values.reshape(-1,1))\n",
        "sns.distplot(X['# of hospitals'])"
      ],
      "execution_count": null,
      "outputs": [
        {
          "output_type": "stream",
          "text": [
            "/usr/local/lib/python3.6/dist-packages/sklearn/preprocessing/_data.py:2357: UserWarning: n_quantiles (1000) is greater than the total number of samples (483). n_quantiles is set to n_samples.\n",
            "  % (self.n_quantiles, n_samples))\n",
            "/usr/local/lib/python3.6/dist-packages/ipykernel_launcher.py:5: SettingWithCopyWarning: \n",
            "A value is trying to be set on a copy of a slice from a DataFrame.\n",
            "Try using .loc[row_indexer,col_indexer] = value instead\n",
            "\n",
            "See the caveats in the documentation: https://pandas.pydata.org/pandas-docs/stable/user_guide/indexing.html#returning-a-view-versus-a-copy\n",
            "  \"\"\"\n"
          ],
          "name": "stderr"
        },
        {
          "output_type": "execute_result",
          "data": {
            "text/plain": [
              "<matplotlib.axes._subplots.AxesSubplot at 0x7f44a7491da0>"
            ]
          },
          "metadata": {
            "tags": []
          },
          "execution_count": 1822
        },
        {
          "output_type": "display_data",
          "data": {
            "image/png": "[encoded data removed]",
            "text/plain": [
              "<Figure size 432x288 with 1 Axes>"
            ]
          },
          "metadata": {
            "tags": [],
            "needs_background": "light"
          }
        }
      ]
    },
    {
      "cell_type": "code",
      "metadata": {
        "id": "dyXuTKZpllYM",
        "colab_type": "code",
        "colab": {
          "base_uri": "https://localhost:8080/",
          "height": 397
        },
        "outputId": "ec30770b-d351-4904-f065-e7766fa1a688"
      },
      "source": [
        "from sklearn.preprocessing import PowerTransformer\n",
        "\n",
        "pt = PowerTransformer(method=\"yeo-johnson\",standardize=False)\n",
        "pt.fit(X['Median Age'].values.reshape(-1,1))\n",
        "X['Median Age'] = pt.transform(X['Median Age'].values.reshape(-1,1))\n",
        "sns.distplot(X['Median Age'])"
      ],
      "execution_count": null,
      "outputs": [
        {
          "output_type": "stream",
          "text": [
            "/usr/local/lib/python3.6/dist-packages/ipykernel_launcher.py:5: SettingWithCopyWarning: \n",
            "A value is trying to be set on a copy of a slice from a DataFrame.\n",
            "Try using .loc[row_indexer,col_indexer] = value instead\n",
            "\n",
            "See the caveats in the documentation: https://pandas.pydata.org/pandas-docs/stable/user_guide/indexing.html#returning-a-view-versus-a-copy\n",
            "  \"\"\"\n"
          ],
          "name": "stderr"
        },
        {
          "output_type": "execute_result",
          "data": {
            "text/plain": [
              "<matplotlib.axes._subplots.AxesSubplot at 0x7f44a7273f98>"
            ]
          },
          "metadata": {
            "tags": []
          },
          "execution_count": 1823
        },
        {
          "output_type": "display_data",
          "data": {
            "image/png": "[encoded data removed]",
            "text/plain": [
              "<Figure size 432x288 with 1 Axes>"
            ]
          },
          "metadata": {
            "tags": [],
            "needs_background": "light"
          }
        }
      ]
    },
    {
      "cell_type": "code",
      "metadata": {
        "id": "eWZcwyi8bf2U",
        "colab_type": "code",
        "colab": {}
      },
      "source": [
        "# from sklearn.preprocessing import StandardScaler\n",
        "# scale=StandardScaler()\n",
        "# scale.fit(X)\n",
        "# X.head()\n"
      ],
      "execution_count": null,
      "outputs": []
    },
    {
      "cell_type": "code",
      "metadata": {
        "id": "kyAHfJd8b_JG",
        "colab_type": "code",
        "colab": {}
      },
      "source": [
        "from sklearn.model_selection import train_test_split\n",
        "\n",
        "train_X,val_X,train_Y,val_Y = train_test_split(X,Y,random_state=0,test_size=0.20)\n"
      ],
      "execution_count": null,
      "outputs": []
    },
    {
      "cell_type": "code",
      "metadata": {
        "id": "MKxRCF8qMtTe",
        "colab_type": "code",
        "colab": {
          "base_uri": "https://localhost:8080/",
          "height": 171
        },
        "outputId": "19c8857b-5b1d-451b-c9fd-fa664749fd2c"
      },
      "source": [
        "from sklearn.ensemble import RandomForestRegressor\n",
        "model_RandomForest=RandomForestRegressor(random_state=0,max_depth=7,n_estimators=10)\n",
        "model_RandomForest.fit(train_X,train_Y)\n",
        "print(\"Train Accuracy : {:.2f}% \".format(model_RandomForest.score(train_X,train_Y)*100))\n",
        "model_RandomForest.predict(train_X)\n",
        "model_RandomForest.predict(val_X)\n",
        "print(\"Test Accuracy : {:.2f}%\".format((model_RandomForest.score(val_X,val_Y))*100))\n",
        "print(\"\\n\\n\\n\")"
      ],
      "execution_count": null,
      "outputs": [
        {
          "output_type": "stream",
          "text": [
            "Train Accuracy : 93.61% \n",
            "Test Accuracy : 80.50%\n",
            "\n",
            "\n",
            "\n",
            "\n"
          ],
          "name": "stdout"
        },
        {
          "output_type": "stream",
          "text": [
            "/usr/local/lib/python3.6/dist-packages/ipykernel_launcher.py:3: DataConversionWarning: A column-vector y was passed when a 1d array was expected. Please change the shape of y to (n_samples,), for example using ravel().\n",
            "  This is separate from the ipykernel package so we can avoid doing imports until\n"
          ],
          "name": "stderr"
        }
      ]
    },
    {
      "cell_type": "code",
      "metadata": {
        "id": "oNx7KkmY_QQ9",
        "colab_type": "code",
        "colab": {
          "base_uri": "https://localhost:8080/",
          "height": 118
        },
        "outputId": "43496d36-d6ee-4b64-f9ae-292a55a7bace"
      },
      "source": [
        "from sklearn.metrics import mean_absolute_error,mean_squared_error,mean_squared_log_error,r2_score,mean_poisson_deviance,mean_gamma_deviance\n",
        "import statsmodels.api as sm\n",
        "\n",
        "print(\"Mean Absolute Error : \",mean_absolute_error(val_Y,model_RandomForest.predict(val_X)))\n",
        "print(\"Root Mean squared Error : \",mean_squared_error(val_Y,model_RandomForest.predict(val_X),squared=False))\n",
        "print(\"Mean squared log Error : \",mean_squared_log_error(val_Y,model_RandomForest.predict(val_X)))\n",
        "print(\"r2_score : \",r2_score(val_Y,model_RandomForest.predict(val_X)))\n",
        "print(\"mean_poisson_deviance : \",mean_poisson_deviance(val_Y,model_RandomForest.predict(val_X)))\n",
        "print(\"mean_gamma_deviance : \",mean_gamma_deviance(val_Y,model_RandomForest.predict(val_X)))"
      ],
      "execution_count": null,
      "outputs": [
        {
          "output_type": "stream",
          "text": [
            "Mean Absolute Error :  2369.172808174431\n",
            "Root Mean squared Error :  7443.53954055866\n",
            "Mean squared log Error :  0.2536286375101515\n",
            "r2_score :  0.8049673434316666\n",
            "mean_poisson_deviance :  1487.5689601861015\n",
            "mean_gamma_deviance :  0.16294986826390417\n"
          ],
          "name": "stdout"
        }
      ]
    },
    {
      "cell_type": "code",
      "metadata": {
        "id": "LAh_X6npZnyx",
        "colab_type": "code",
        "colab": {}
      },
      "source": [
        "xls=pd.read_excel(\"Test_dataset.xlsx\")\n",
        "tX=xls[features]"
      ],
      "execution_count": null,
      "outputs": []
    },
    {
      "cell_type": "code",
      "metadata": {
        "id": "Ljl4fJByoBwi",
        "colab_type": "code",
        "colab": {
          "base_uri": "https://localhost:8080/",
          "height": 437
        },
        "outputId": "43df99f6-5f3f-4359-c132-24ef42ebf530"
      },
      "source": [
        "print(tX.isnull().sum())\n",
        "tX.info()\n",
        "tX.shape"
      ],
      "execution_count": null,
      "outputs": [
        {
          "output_type": "stream",
          "text": [
            "Population [2011]     6\n",
            "Toilets Avl          22\n",
            "# of hospitals       17\n",
            "Foreign Visitors     17\n",
            "SWM                   9\n",
            "Median Age           13\n",
            "H Index              15\n",
            "Female Population    15\n",
            "dtype: int64\n",
            "<class 'pandas.core.frame.DataFrame'>\n",
            "RangeIndex: 501 entries, 0 to 500\n",
            "Data columns (total 8 columns):\n",
            " #   Column             Non-Null Count  Dtype  \n",
            "---  ------             --------------  -----  \n",
            " 0   Population [2011]  495 non-null    float64\n",
            " 1   Toilets Avl        479 non-null    float64\n",
            " 2   # of hospitals     484 non-null    float64\n",
            " 3   Foreign Visitors   484 non-null    float64\n",
            " 4   SWM                492 non-null    object \n",
            " 5   Median Age         488 non-null    float64\n",
            " 6   H Index            486 non-null    float64\n",
            " 7   Female Population  486 non-null    float64\n",
            "dtypes: float64(7), object(1)\n",
            "memory usage: 31.4+ KB\n"
          ],
          "name": "stdout"
        },
        {
          "output_type": "execute_result",
          "data": {
            "text/plain": [
              "(501, 8)"
            ]
          },
          "metadata": {
            "tags": []
          },
          "execution_count": 1829
        }
      ]
    },
    {
      "cell_type": "code",
      "metadata": {
        "id": "PKW_B_DvqHoy",
        "colab_type": "code",
        "colab": {
          "base_uri": "https://localhost:8080/",
          "height": 319
        },
        "outputId": "9606aa5e-89b0-4b80-f381-b0149cc55f4b"
      },
      "source": [
        "tX['SWM']=tX['SWM'].replace('LOW',1)\n",
        "tX['SWM']=tX['SWM'].replace('MEDIUM',2)\n",
        "tX['SWM']=tX['SWM'].replace('HIGH',3)"
      ],
      "execution_count": null,
      "outputs": [
        {
          "output_type": "stream",
          "text": [
            "/usr/local/lib/python3.6/dist-packages/ipykernel_launcher.py:1: SettingWithCopyWarning: \n",
            "A value is trying to be set on a copy of a slice from a DataFrame.\n",
            "Try using .loc[row_indexer,col_indexer] = value instead\n",
            "\n",
            "See the caveats in the documentation: https://pandas.pydata.org/pandas-docs/stable/user_guide/indexing.html#returning-a-view-versus-a-copy\n",
            "  \"\"\"Entry point for launching an IPython kernel.\n",
            "/usr/local/lib/python3.6/dist-packages/ipykernel_launcher.py:2: SettingWithCopyWarning: \n",
            "A value is trying to be set on a copy of a slice from a DataFrame.\n",
            "Try using .loc[row_indexer,col_indexer] = value instead\n",
            "\n",
            "See the caveats in the documentation: https://pandas.pydata.org/pandas-docs/stable/user_guide/indexing.html#returning-a-view-versus-a-copy\n",
            "  \n",
            "/usr/local/lib/python3.6/dist-packages/ipykernel_launcher.py:3: SettingWithCopyWarning: \n",
            "A value is trying to be set on a copy of a slice from a DataFrame.\n",
            "Try using .loc[row_indexer,col_indexer] = value instead\n",
            "\n",
            "See the caveats in the documentation: https://pandas.pydata.org/pandas-docs/stable/user_guide/indexing.html#returning-a-view-versus-a-copy\n",
            "  This is separate from the ipykernel package so we can avoid doing imports until\n"
          ],
          "name": "stderr"
        }
      ]
    },
    {
      "cell_type": "code",
      "metadata": {
        "id": "pSq8EP8wopWD",
        "colab_type": "code",
        "colab": {
          "base_uri": "https://localhost:8080/",
          "height": 101
        },
        "outputId": "543cd88e-893d-4036-9975-07aaf956f30b"
      },
      "source": [
        "#tX[\"Type\"].fillna(3.0, inplace=True)\n",
        "tX[\"SWM\"].fillna(3.0, inplace=True)\n",
        "tX[\"Median Age\"].fillna(X[\"Median Age\"].median(), inplace=True)\n",
        "tX[\"H Index\"].fillna(X[\"H Index\"].mean(), inplace=True)\n",
        "tX[\"Female Population\"].fillna(X[\"Female Population\"].mean(), inplace=True)\n",
        "tX[\"Foreign Visitors\"].fillna(X[\"Foreign Visitors\"].median(), inplace=True)\n",
        "tX[\"# of hospitals\"].fillna(X[\"# of hospitals\"].median(), inplace=True)\n",
        "tX[\"Toilets Avl\"].fillna(X[\"Toilets Avl\"].median(), inplace=True)\n",
        "tX[\"Population [2011]\"].fillna(X[\"Population [2011]\"].median(), inplace=True)\n"
      ],
      "execution_count": null,
      "outputs": [
        {
          "output_type": "stream",
          "text": [
            "/usr/local/lib/python3.6/dist-packages/pandas/core/generic.py:6245: SettingWithCopyWarning: \n",
            "A value is trying to be set on a copy of a slice from a DataFrame\n",
            "\n",
            "See the caveats in the documentation: https://pandas.pydata.org/pandas-docs/stable/user_guide/indexing.html#returning-a-view-versus-a-copy\n",
            "  self._update_inplace(new_data)\n"
          ],
          "name": "stderr"
        }
      ]
    },
    {
      "cell_type": "code",
      "metadata": {
        "id": "RNSnlQyPr2-C",
        "colab_type": "code",
        "colab": {}
      },
      "source": [
        "# from sklearn.model_selection import train_test_split\n",
        "\n",
        "# train_X,val_X,train_Y,val_Y = train_test_split(tX,Y,random_state=0,test_size=0.20)\n"
      ],
      "execution_count": null,
      "outputs": []
    },
    {
      "cell_type": "code",
      "metadata": {
        "id": "t9P0p8psr0Nw",
        "colab_type": "code",
        "colab": {
          "base_uri": "https://localhost:8080/",
          "height": 34
        },
        "outputId": "a827e2fa-66a1-4b87-ba37-b8733813abb2"
      },
      "source": [
        "# from sklearn.ensemble import RandomForestRegressor\n",
        "# model_RandomForest=RandomForestRegressor(random_state=0,max_depth=7,n_estimators=10)\n",
        "# model_RandomForest.fit(train_X,train_Y)\n",
        "# print(\"Train Accuracy : {:.2f}% \".format(model_RandomForest.score(train_X,train_Y)*100))\n",
        "# model_RandomForest.predict(train_X)\n",
        "predicted=model_RandomForest.predict(tX)\n",
        "# print(\"Test Accuracy : {:.2f}%\".format((model_RandomForest.score(val_X,val_Y))*100))\n",
        "# print(\"\\n\\n\\n\")\n",
        "predicted.shape"
      ],
      "execution_count": null,
      "outputs": [
        {
          "output_type": "execute_result",
          "data": {
            "text/plain": [
              "(501,)"
            ]
          },
          "metadata": {
            "tags": []
          },
          "execution_count": 1833
        }
      ]
    },
    {
      "cell_type": "code",
      "metadata": {
        "id": "hUtmxglFpmUX",
        "colab_type": "code",
        "colab": {
          "base_uri": "https://localhost:8080/",
          "height": 118
        },
        "outputId": "1a374285-2b8e-456f-d6b5-6f2cc3411eae"
      },
      "source": [
        "from sklearn.metrics import mean_absolute_error,mean_squared_error,mean_squared_log_error,r2_score,mean_poisson_deviance,mean_gamma_deviance\n",
        "import statsmodels.api as sm\n",
        "\n",
        "print(\"Mean Absolute Error : \",mean_absolute_error(val_Y,model_RandomForest.predict(val_X)))\n",
        "print(\"Root Mean squared Error : \",mean_squared_error(val_Y,model_RandomForest.predict(val_X),squared=False))\n",
        "print(\"Mean squared log Error : \",mean_squared_log_error(val_Y,model_RandomForest.predict(val_X)))\n",
        "print(\"r2_score : \",r2_score(val_Y,model_RandomForest.predict(val_X)))\n",
        "print(\"mean_poisson_deviance : \",mean_poisson_deviance(val_Y,model_RandomForest.predict(val_X)))\n",
        "print(\"mean_gamma_deviance : \",mean_gamma_deviance(val_Y,model_RandomForest.predict(val_X)))"
      ],
      "execution_count": null,
      "outputs": [
        {
          "output_type": "stream",
          "text": [
            "Mean Absolute Error :  2369.172808174431\n",
            "Root Mean squared Error :  7443.53954055866\n",
            "Mean squared log Error :  0.2536286375101515\n",
            "r2_score :  0.8049673434316666\n",
            "mean_poisson_deviance :  1487.5689601861015\n",
            "mean_gamma_deviance :  0.16294986826390417\n"
          ],
          "name": "stdout"
        }
      ]
    },
    {
      "cell_type": "code",
      "metadata": {
        "id": "z_R_jTCwr5wG",
        "colab_type": "code",
        "colab": {
          "base_uri": "https://localhost:8080/",
          "height": 34
        },
        "outputId": "ac95de87-bb8f-45ac-81ef-8ae52d8d8963"
      },
      "source": [
        "xls.shape"
      ],
      "execution_count": null,
      "outputs": [
        {
          "output_type": "execute_result",
          "data": {
            "text/plain": [
              "(501, 15)"
            ]
          },
          "metadata": {
            "tags": []
          },
          "execution_count": 1835
        }
      ]
    },
    {
      "cell_type": "code",
      "metadata": {
        "id": "SPde9-_6sXOD",
        "colab_type": "code",
        "colab": {}
      },
      "source": [
        "predicted=[round(i) for i in predicted]"
      ],
      "execution_count": null,
      "outputs": []
    },
    {
      "cell_type": "code",
      "metadata": {
        "id": "Pgzee2d0sqjP",
        "colab_type": "code",
        "colab": {
          "base_uri": "https://localhost:8080/",
          "height": 249
        },
        "outputId": "6b1d5d52-83ae-43a9-e361-af766ade68d4"
      },
      "source": [
        "xls.head()"
      ],
      "execution_count": null,
      "outputs": [
        {
          "output_type": "execute_result",
          "data": {
            "text/html": [
              "<div>\n",
              "<style scoped>\n",
              "    .dataframe tbody tr th:only-of-type {\n",
              "        vertical-align: middle;\n",
              "    }\n",
              "\n",
              "    .dataframe tbody tr th {\n",
              "        vertical-align: top;\n",
              "    }\n",
              "\n",
              "    .dataframe thead th {\n",
              "        text-align: right;\n",
              "    }\n",
              "</style>\n",
              "<table border=\"1\" class=\"dataframe\">\n",
              "  <thead>\n",
              "    <tr style=\"text-align: right;\">\n",
              "      <th></th>\n",
              "      <th>City</th>\n",
              "      <th>State</th>\n",
              "      <th>Type</th>\n",
              "      <th>Population [2011]</th>\n",
              "      <th>Popuation [2001]</th>\n",
              "      <th>Sex Ratio</th>\n",
              "      <th>Median Age</th>\n",
              "      <th>Avg Temp</th>\n",
              "      <th>SWM</th>\n",
              "      <th>Toilets Avl</th>\n",
              "      <th>Water Purity</th>\n",
              "      <th>H Index</th>\n",
              "      <th>Female Population</th>\n",
              "      <th># of hospitals</th>\n",
              "      <th>Foreign Visitors</th>\n",
              "    </tr>\n",
              "  </thead>\n",
              "  <tbody>\n",
              "    <tr>\n",
              "      <th>0</th>\n",
              "      <td>Tuensang</td>\n",
              "      <td>Nagaland</td>\n",
              "      <td>T.C</td>\n",
              "      <td>36774.0</td>\n",
              "      <td>NaN</td>\n",
              "      <td>931.0</td>\n",
              "      <td>23.0</td>\n",
              "      <td>10.0</td>\n",
              "      <td>MEDIUM</td>\n",
              "      <td>94.0</td>\n",
              "      <td>114.0</td>\n",
              "      <td>0.253390</td>\n",
              "      <td>34237.0</td>\n",
              "      <td>17.0</td>\n",
              "      <td>2769.0</td>\n",
              "    </tr>\n",
              "    <tr>\n",
              "      <th>1</th>\n",
              "      <td>Lakshmeshwar</td>\n",
              "      <td>Karnataka</td>\n",
              "      <td>T.M.C</td>\n",
              "      <td>36754.0</td>\n",
              "      <td>NaN</td>\n",
              "      <td>934.0</td>\n",
              "      <td>25.0</td>\n",
              "      <td>38.0</td>\n",
              "      <td>HIGH</td>\n",
              "      <td>62.0</td>\n",
              "      <td>160.0</td>\n",
              "      <td>0.192555</td>\n",
              "      <td>34328.0</td>\n",
              "      <td>13.0</td>\n",
              "      <td>636502.0</td>\n",
              "    </tr>\n",
              "    <tr>\n",
              "      <th>2</th>\n",
              "      <td>Zira</td>\n",
              "      <td>Punjab</td>\n",
              "      <td>M.Cl.</td>\n",
              "      <td>36732.0</td>\n",
              "      <td>NaN</td>\n",
              "      <td>883.0</td>\n",
              "      <td>29.0</td>\n",
              "      <td>35.0</td>\n",
              "      <td>HIGH</td>\n",
              "      <td>63.0</td>\n",
              "      <td>105.0</td>\n",
              "      <td>0.887882</td>\n",
              "      <td>32434.0</td>\n",
              "      <td>17.0</td>\n",
              "      <td>242367.0</td>\n",
              "    </tr>\n",
              "    <tr>\n",
              "      <th>3</th>\n",
              "      <td>Yawal</td>\n",
              "      <td>Maharashtra</td>\n",
              "      <td>M.Cl</td>\n",
              "      <td>36706.0</td>\n",
              "      <td>NaN</td>\n",
              "      <td>887.0</td>\n",
              "      <td>26.0</td>\n",
              "      <td>31.0</td>\n",
              "      <td>HIGH</td>\n",
              "      <td>60.0</td>\n",
              "      <td>174.0</td>\n",
              "      <td>0.407838</td>\n",
              "      <td>32558.0</td>\n",
              "      <td>11.0</td>\n",
              "      <td>4408916.0</td>\n",
              "    </tr>\n",
              "    <tr>\n",
              "      <th>4</th>\n",
              "      <td>Thana Bhawan</td>\n",
              "      <td>Uttar Pradesh</td>\n",
              "      <td>N.P.</td>\n",
              "      <td>36669.0</td>\n",
              "      <td>NaN</td>\n",
              "      <td>877.0</td>\n",
              "      <td>28.0</td>\n",
              "      <td>39.0</td>\n",
              "      <td>LOW</td>\n",
              "      <td>92.0</td>\n",
              "      <td>153.0</td>\n",
              "      <td>0.324456</td>\n",
              "      <td>32159.0</td>\n",
              "      <td>23.0</td>\n",
              "      <td>3104060.0</td>\n",
              "    </tr>\n",
              "  </tbody>\n",
              "</table>\n",
              "</div>"
            ],
            "text/plain": [
              "           City          State  ... # of hospitals  Foreign Visitors\n",
              "0      Tuensang       Nagaland  ...           17.0            2769.0\n",
              "1  Lakshmeshwar      Karnataka  ...           13.0          636502.0\n",
              "2          Zira         Punjab  ...           17.0          242367.0\n",
              "3         Yawal    Maharashtra  ...           11.0         4408916.0\n",
              "4  Thana Bhawan  Uttar Pradesh  ...           23.0         3104060.0\n",
              "\n",
              "[5 rows x 15 columns]"
            ]
          },
          "metadata": {
            "tags": []
          },
          "execution_count": 1837
        }
      ]
    },
    {
      "cell_type": "code",
      "metadata": {
        "id": "bMVSSfKpss3d",
        "colab_type": "code",
        "colab": {}
      },
      "source": [
        "new=pd.DataFrame()"
      ],
      "execution_count": null,
      "outputs": []
    },
    {
      "cell_type": "code",
      "metadata": {
        "id": "TuGemaMAuEvZ",
        "colab_type": "code",
        "colab": {}
      },
      "source": [
        "new[\"City\"]=xls[\"City\"]"
      ],
      "execution_count": null,
      "outputs": []
    },
    {
      "cell_type": "code",
      "metadata": {
        "id": "vRLqRjuJucxm",
        "colab_type": "code",
        "colab": {}
      },
      "source": [
        "new[\"Predicted Covid cases\"]=predicted"
      ],
      "execution_count": null,
      "outputs": []
    },
    {
      "cell_type": "code",
      "metadata": {
        "id": "8F7ydFH1ujl9",
        "colab_type": "code",
        "colab": {
          "base_uri": "https://localhost:8080/",
          "height": 136
        },
        "outputId": "6d325943-b847-4992-fb75-f23df5d9ca4c"
      },
      "source": [
        "new.head(3)"
      ],
      "execution_count": null,
      "outputs": [
        {
          "output_type": "execute_result",
          "data": {
            "text/html": [
              "<div>\n",
              "<style scoped>\n",
              "    .dataframe tbody tr th:only-of-type {\n",
              "        vertical-align: middle;\n",
              "    }\n",
              "\n",
              "    .dataframe tbody tr th {\n",
              "        vertical-align: top;\n",
              "    }\n",
              "\n",
              "    .dataframe thead th {\n",
              "        text-align: right;\n",
              "    }\n",
              "</style>\n",
              "<table border=\"1\" class=\"dataframe\">\n",
              "  <thead>\n",
              "    <tr style=\"text-align: right;\">\n",
              "      <th></th>\n",
              "      <th>City</th>\n",
              "      <th>Predicted Covid cases</th>\n",
              "    </tr>\n",
              "  </thead>\n",
              "  <tbody>\n",
              "    <tr>\n",
              "      <th>0</th>\n",
              "      <td>Tuensang</td>\n",
              "      <td>7227.0</td>\n",
              "    </tr>\n",
              "    <tr>\n",
              "      <th>1</th>\n",
              "      <td>Lakshmeshwar</td>\n",
              "      <td>7489.0</td>\n",
              "    </tr>\n",
              "    <tr>\n",
              "      <th>2</th>\n",
              "      <td>Zira</td>\n",
              "      <td>7489.0</td>\n",
              "    </tr>\n",
              "  </tbody>\n",
              "</table>\n",
              "</div>"
            ],
            "text/plain": [
              "           City  Predicted Covid cases\n",
              "0      Tuensang                 7227.0\n",
              "1  Lakshmeshwar                 7489.0\n",
              "2          Zira                 7489.0"
            ]
          },
          "metadata": {
            "tags": []
          },
          "execution_count": 1841
        }
      ]
    },
    {
      "cell_type": "code",
      "metadata": {
        "id": "cSt6NPmVulgj",
        "colab_type": "code",
        "colab": {}
      },
      "source": [
        "new.to_csv(\"Predicted_dataset_1.csv\",index=False)"
      ],
      "execution_count": null,
      "outputs": []
    },
    {
      "cell_type": "code",
      "metadata": {
        "id": "myM072T-u8cO",
        "colab_type": "code",
        "colab": {}
      },
      "source": [
        ""
      ],
      "execution_count": null,
      "outputs": []
    },
    {
      "cell_type": "markdown",
      "metadata": {
        "id": "eEif45yqzVWi",
        "colab_type": "text"
      },
      "source": [
        "# New Section"
      ]
    }
  ]
}